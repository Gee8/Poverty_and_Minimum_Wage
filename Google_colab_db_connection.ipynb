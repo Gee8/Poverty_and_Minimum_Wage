{
  "nbformat": 4,
  "nbformat_minor": 0,
  "metadata": {
    "colab": {
      "name": "databaseConnection.ipynb",
      "provenance": [],
      "collapsed_sections": []
    },
    "kernelspec": {
      "name": "python3",
      "display_name": "Python 3"
    },
    "language_info": {
      "name": "python"
    }
  },
  "cells": [
    {
      "cell_type": "code",
      "metadata": {
        "colab": {
          "base_uri": "https://localhost:8080/"
        },
        "id": "aUB3syvxNy2x",
        "outputId": "90416c95-5ca4-43cb-ffef-4c59355229b3"
      },
      "source": [
        "import os\n",
        "# Find the latest version of spark 2.0  from http://www-us.apache.org/dist/spark/ and enter as the spark version\n",
        "# For example:\n",
        "# spark_version = 'spark-3.0.0'\n",
        "spark_version = 'spark-3.1.2'\n",
        "os.environ['SPARK_VERSION']=spark_version\n",
        "\n",
        "# Install Spark and Java\n",
        "!apt-get update\n",
        "!apt-get install openjdk-11-jdk-headless -qq > /dev/null\n",
        "!wget -q https://archive.apache.org/dist/spark/$SPARK_VERSION/$SPARK_VERSION-bin-hadoop2.7.tgz\n",
        "!tar xf $SPARK_VERSION-bin-hadoop2.7.tgz\n",
        "!pip install -q findspark\n",
        "\n",
        "# Set Environment Variables\n",
        "import os\n",
        "os.environ[\"JAVA_HOME\"] = \"/usr/lib/jvm/java-11-openjdk-amd64\"\n",
        "os.environ[\"SPARK_HOME\"] = f\"/content/{spark_version}-bin-hadoop2.7\"\n",
        "\n",
        "# Start a SparkSession\n",
        "import findspark\n",
        "findspark.init()"
      ],
      "execution_count": 1,
      "outputs": [
        {
          "output_type": "stream",
          "text": [
            "\r0% [Working]\r            \rGet:1 http://security.ubuntu.com/ubuntu bionic-security InRelease [88.7 kB]\n",
            "\r0% [Connecting to archive.ubuntu.com (91.189.88.152)] [1 InRelease 0 B/88.7 kB \r0% [Connecting to archive.ubuntu.com (91.189.88.152)] [Waiting for headers] [Co\r                                                                               \rGet:2 https://cloud.r-project.org/bin/linux/ubuntu bionic-cran40/ InRelease [3,626 B]\n",
            "Ign:3 https://developer.download.nvidia.com/compute/cuda/repos/ubuntu1804/x86_64  InRelease\n",
            "Hit:4 http://archive.ubuntu.com/ubuntu bionic InRelease\n",
            "Get:5 http://ppa.launchpad.net/c2d4u.team/c2d4u4.0+/ubuntu bionic InRelease [15.9 kB]\n",
            "Ign:6 https://developer.download.nvidia.com/compute/machine-learning/repos/ubuntu1804/x86_64  InRelease\n",
            "Get:7 https://developer.download.nvidia.com/compute/cuda/repos/ubuntu1804/x86_64  Release [697 B]\n",
            "Hit:8 https://developer.download.nvidia.com/compute/machine-learning/repos/ubuntu1804/x86_64  Release\n",
            "Get:9 https://developer.download.nvidia.com/compute/cuda/repos/ubuntu1804/x86_64  Release.gpg [836 B]\n",
            "Get:10 http://archive.ubuntu.com/ubuntu bionic-updates InRelease [88.7 kB]\n",
            "Get:11 http://security.ubuntu.com/ubuntu bionic-security/universe amd64 Packages [1,420 kB]\n",
            "Hit:12 http://ppa.launchpad.net/cran/libgit2/ubuntu bionic InRelease\n",
            "Get:13 http://archive.ubuntu.com/ubuntu bionic-backports InRelease [74.6 kB]\n",
            "Get:14 http://security.ubuntu.com/ubuntu bionic-security/restricted amd64 Packages [505 kB]\n",
            "Hit:15 http://ppa.launchpad.net/deadsnakes/ppa/ubuntu bionic InRelease\n",
            "Get:16 http://security.ubuntu.com/ubuntu bionic-security/multiverse amd64 Packages [26.7 kB]\n",
            "Get:17 http://security.ubuntu.com/ubuntu bionic-security/main amd64 Packages [2,257 kB]\n",
            "Get:18 http://ppa.launchpad.net/graphics-drivers/ppa/ubuntu bionic InRelease [21.3 kB]\n",
            "Ign:20 https://developer.download.nvidia.com/compute/cuda/repos/ubuntu1804/x86_64  Packages\n",
            "Get:20 https://developer.download.nvidia.com/compute/cuda/repos/ubuntu1804/x86_64  Packages [679 kB]\n",
            "Get:21 http://ppa.launchpad.net/c2d4u.team/c2d4u4.0+/ubuntu bionic/main Sources [1,785 kB]\n",
            "Get:22 http://archive.ubuntu.com/ubuntu bionic-updates/restricted amd64 Packages [537 kB]\n",
            "Get:23 http://archive.ubuntu.com/ubuntu bionic-updates/main amd64 Packages [2,693 kB]\n",
            "Get:24 http://ppa.launchpad.net/c2d4u.team/c2d4u4.0+/ubuntu bionic/main amd64 Packages [913 kB]\n",
            "Get:25 http://archive.ubuntu.com/ubuntu bionic-updates/universe amd64 Packages [2,194 kB]\n",
            "Get:26 http://archive.ubuntu.com/ubuntu bionic-updates/multiverse amd64 Packages [33.6 kB]\n",
            "Get:27 http://ppa.launchpad.net/graphics-drivers/ppa/ubuntu bionic/main amd64 Packages [44.1 kB]\n",
            "Fetched 13.4 MB in 3s (3,934 kB/s)\n",
            "Reading package lists... Done\n"
          ],
          "name": "stdout"
        }
      ]
    },
    {
      "cell_type": "code",
      "metadata": {
        "colab": {
          "base_uri": "https://localhost:8080/"
        },
        "id": "ODB1Boi0v7yS",
        "outputId": "855b7247-cb8f-4a53-9e2f-1c525a5f9f37"
      },
      "source": [
        "# Download the Postgres driver that will allow Spark to interact with Postgres.\n",
        "!wget https://jdbc.postgresql.org/download/postgresql-42.2.16.jar"
      ],
      "execution_count": 2,
      "outputs": [
        {
          "output_type": "stream",
          "text": [
            "--2021-07-27 01:42:22--  https://jdbc.postgresql.org/download/postgresql-42.2.16.jar\n",
            "Resolving jdbc.postgresql.org (jdbc.postgresql.org)... 72.32.157.228, 2001:4800:3e1:1::228\n",
            "Connecting to jdbc.postgresql.org (jdbc.postgresql.org)|72.32.157.228|:443... connected.\n",
            "HTTP request sent, awaiting response... 200 OK\n",
            "Length: 1002883 (979K) [application/java-archive]\n",
            "Saving to: ‘postgresql-42.2.16.jar’\n",
            "\n",
            "postgresql-42.2.16. 100%[===================>] 979.38K  5.69MB/s    in 0.2s    \n",
            "\n",
            "2021-07-27 01:42:22 (5.69 MB/s) - ‘postgresql-42.2.16.jar’ saved [1002883/1002883]\n",
            "\n"
          ],
          "name": "stdout"
        }
      ]
    },
    {
      "cell_type": "code",
      "metadata": {
        "id": "7Lz6sNDtv-nn"
      },
      "source": [
        "from pyspark.sql import SparkSession\n",
        "spark = SparkSession.builder.appName(\"Poverty-Prediction\").config(\"spark.driver.extraClassPath\",\"/content/postgresql-42.2.16.jar\").getOrCreate()"
      ],
      "execution_count": 3,
      "outputs": []
    },
    {
      "cell_type": "code",
      "metadata": {
        "colab": {
          "base_uri": "https://localhost:8080/"
        },
        "id": "ZeqmluWBxwvZ",
        "outputId": "5858c178-bdc7-48ac-8a7c-994340c626d7"
      },
      "source": [
        "# Configure settings for RDS\n",
        "from getpass import getpass\n",
        "password = getpass('Enter password')\n",
        "init_db = getpass('Enter initial database name')\n",
        "db_instance = getpass('Enter database instance identifier')\n",
        "jdbc_url=f\"jdbc:postgresql://{db_instance}.czpjmlarn3xk.us-east-2.rds.amazonaws.com:5432/{init_db}\"\n",
        "config = {\"user\":\"postgres\", \n",
        "          \"password\": password, \n",
        "          \"driver\":\"org.postgresql.Driver\"}"
      ],
      "execution_count": 25,
      "outputs": [
        {
          "output_type": "stream",
          "text": [
            "Enter password··········\n",
            "Enter initial database name··········\n",
            "Enter database instance identifier··········\n"
          ],
          "name": "stdout"
        }
      ]
    },
    {
      "cell_type": "code",
      "metadata": {
        "colab": {
          "base_uri": "https://localhost:8080/"
        },
        "id": "mUeCZ06koh5E",
        "outputId": "ef1f5b8f-5e01-43e8-b101-b1d656651634"
      },
      "source": [
        "# Reading data from database into a dataframe\n",
        "economic_features = spark.read.jdbc(url = jdbc_url, table = \"economic_features\", properties=config)\n",
        "\n",
        "economic_features.show()"
      ],
      "execution_count": 26,
      "outputs": [
        {
          "output_type": "stream",
          "text": [
            "+----+-------+--------------------+--------------------+--------------------+--------------------+--------------------+----------------------------+--------------------+----------------------+--------------------+--------------------+--------------------+\n",
            "|year|  state|  population_million|   education_million|     welfare_million|          crime_rate|   unemployment_rate|divorce_rate_per_1000_people|  homeownership_rate|minimum_wage_effective|         cpi_average|      avg_wage_index|        poverty_rate|\n",
            "+----+-------+--------------------+--------------------+--------------------+--------------------+--------------------+----------------------------+--------------------+----------------------+--------------------+--------------------+--------------------+\n",
            "|1986|Alabama|3.981000000000000300|3238.400000000000...|953.3000000000000...|558.0000000000000...|9.600000000000000000|        4.866700000000000000|70.30000000000000...|  3.350000000000000000|109.6000000000000...|17321.82000000000...|26.00000000000000...|\n",
            "|1987|Alabama|3.996000000000000400|3220.700000000000...|946.2000000000000...|559.2000000000000...|8.200000000000000000|        4.811100000000000000|67.90000000000000...|  3.350000000000000000|113.6000000000000...|18426.51000000000...|25.60000000000000...|\n",
            "|1988|Alabama|4.011000000000000000|3555.900000000000...|958.8000000000000...|558.6000000000000...|7.300000000000000000|        4.755600000000000000|66.50000000000000...|  3.350000000000000000|118.3000000000000...|19334.04000000000...|24.90000000000000...|\n",
            "|1989|Alabama|4.026000000000000000|3881.400000000000...|1085.800000000000...|590.8000000000000...|7.000000000000000000|        4.700000000000000000|67.60000000000000...|  3.350000000000000000|124.0000000000000...|20099.55000000000...|23.90000000000000...|\n",
            "|1990|Alabama|4.041000000000000000|4171.300000000000...|1404.900000000000...|708.6000000000000...|6.800000000000000000|        4.700000000000000000|68.40000000000000...|  3.350000000000000000|130.7000000000000...|21027.98000000000...|22.70000000000000...|\n",
            "|1991|Alabama|4.080000000000000000|4396.200000000000...|1809.200000000000...|844.2000000000000...|7.300000000000000000|        4.642900000000000000|69.90000000000000...|  3.800000000000000000|136.2000000000000...|21811.60000000000...|21.80000000000000...|\n",
            "|1992|Alabama|4.119000000000000000|4304.000000000000...|950.3000000000000...|871.7000000000000...|7.500000000000000000|        4.585700000000000000|70.30000000000000...|  4.250000000000000000|140.3000000000000...|22935.42000000000...|21.00000000000000...|\n",
            "|1993|Alabama|4.158000000000000000|4478.600000000000...|1079.200000000000...|780.4000000000000...|7.200000000000000000|        4.528600000000000000|70.20000000000000...|  4.250000000000000000|144.5000000000000...|23132.67000000000...|20.30000000000000...|\n",
            "|1994|Alabama|4.199000000000000000|4895.300000000000...|1064.400000000000...|683.7000000000000...|6.200000000000000000|        4.471400000000000000|68.50000000000000...|  4.250000000000000000|148.2000000000000...|23753.53000000000...|18.90000000000000...|\n",
            "|1995|Alabama|4.239000000000000000|5311.200000000000...|1166.700000000000...|632.4000000000000...|5.900000000000000000|        4.414300000000000000|70.10000000000000...|  4.250000000000000000|152.4000000000000...|24705.66000000000...|18.00000000000000...|\n",
            "|1996|Alabama|4.280000000000000000|5850.600000000000...|1089.100000000000...|565.4000000000000...|5.200000000000000000|        4.357100000000000000|71.00000000000000...|  4.250000000000000000|156.9000000000000...|25913.90000000000...|16.80000000000000...|\n",
            "|1997|Alabama|4.321000000000001000|6317.400000000000...|1142.800000000000...|564.5000000000000...|4.900000000000000000|        4.300000000000000000|71.30000000000000...|  4.750000000000000000|160.5000000000000...|27426.00000000000...|15.90000000000000...|\n",
            "|1998|Alabama|4.363000000000000000|6691.600000000000...|1398.600000000000...|512.1000000000000...|4.500000000000000000|        4.200000000000000000|72.90000000000000...|  5.150000000000000000|163.0000000000000...|28861.44000000000...|14.60000000000000...|\n",
            "|1999|Alabama|4.405000000000000000|7231.200000000000...|1478.200000000000...|490.2000000000000...|4.700000000000000000|        4.100000000000000000|74.80000000000000...|  5.150000000000000000|166.6000000000000...|30469.84000000000...|14.40000000000000...|\n",
            "|2000|Alabama|4.452000000000000000|7830.000000000000...|1485.200000000000...|486.2000000000000...|4.600000000000000000|        4.000000000000000000|73.20000000000000...|  5.150000000000000000|172.2000000000000...|32154.82000000000...|14.20000000000000...|\n",
            "|2001|Alabama|4.463999999999999500|8092.300000000000...|1800.000000000000...|438.2000000000000...|5.200000000000000000|        4.000000000000000000|73.20000000000000...|  5.150000000000000000|177.1000000000000...|32921.92000000000...|14.60000000000000...|\n",
            "|2002|Alabama|4.471999999999999500|8388.500000000000...|1912.300000000000...|445.0000000000000...|5.900000000000000000|        3.900000000000000000|73.70000000000000...|  5.150000000000000000|179.9000000000000...|33252.09000000000...|14.60000000000000...|\n",
            "|2003|Alabama|4.491000000000000500|8847.500000000000...|2352.900000000000...|429.2000000000000...|6.000000000000000000|        3.800000000000000000|76.20000000000000...|  5.150000000000000000|184.0000000000000...|34064.95000000000...|14.80000000000000...|\n",
            "|2004|Alabama|4.512000000000000000|9516.700000000000...|2052.300000000000...|427.0000000000000...|5.600000000000000000|        3.700000000000000000|78.00000000000000...|  5.150000000000000000|188.9000000000000...|35648.55000000000...|14.80000000000000...|\n",
            "|2005|Alabama|4.545000000000000000|9880.000000000000...|1273.000000000000...|432.6000000000000...|4.400000000000000000|        3.600000000000000000|76.60000000000000...|  5.150000000000000000|195.3000000000000...|36952.94000000000...|14.70000000000000...|\n",
            "+----+-------+--------------------+--------------------+--------------------+--------------------+--------------------+----------------------------+--------------------+----------------------+--------------------+--------------------+--------------------+\n",
            "only showing top 20 rows\n",
            "\n"
          ],
          "name": "stdout"
        }
      ]
    }
  ]
}
