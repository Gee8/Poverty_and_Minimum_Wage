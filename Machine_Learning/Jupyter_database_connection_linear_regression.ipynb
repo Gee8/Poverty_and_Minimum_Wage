{
 "cells": [
  {
   "cell_type": "code",
   "execution_count": 1,
   "id": "6ed211e5",
   "metadata": {},
   "outputs": [],
   "source": [
    "# Import database dependencies\n",
    "from sqlalchemy import inspect, create_engine\n",
    "from sqlalchemy.ext.automap import automap_base\n",
    "from sqlalchemy.orm import Session\n",
    "import config as creds\n",
    "\n",
    "# Import Pandas and matplotlib dependencies\n",
    "import pandas as pd\n",
    "import numpy as np\n",
    "from pathlib import Path\n",
    "import matplotlib.pyplot as plt\n",
    "\n",
    "# Import scikit packages\n",
    "import sklearn.preprocessing as preprocessing\n",
    "from sklearn.linear_model import LinearRegression\n",
    "import sklearn.datasets as datasets\n",
    "# For splitting of data into train and test set\n",
    "from sklearn.model_selection import train_test_split\n",
    "# Metrics for Evaluation of model Accuracy and F1-score\n",
    "from sklearn.metrics  import f1_score,accuracy_score\n",
    "import sklearn.metrics as metrics"
   ]
  },
  {
   "cell_type": "code",
   "execution_count": 2,
   "id": "f9e1a0f3",
   "metadata": {},
   "outputs": [],
   "source": [
    "#!pip install psycopg2"
   ]
  },
  {
   "cell_type": "code",
   "execution_count": 3,
   "id": "9e5648f3",
   "metadata": {},
   "outputs": [],
   "source": [
    "#!pip install psycopg2-binary "
   ]
  },
  {
   "cell_type": "code",
   "execution_count": 4,
   "id": "9bdd0dfd",
   "metadata": {},
   "outputs": [],
   "source": [
    "# Create engine\n",
    "engine = create_engine(f'postgresql://{creds.PGUSER}:{creds.PGPASSWORD}@{creds.PGHOST}:5432/{creds.PGDATABASE}')"
   ]
  },
  {
   "cell_type": "code",
   "execution_count": 5,
   "id": "eb73215a",
   "metadata": {},
   "outputs": [],
   "source": [
    "# Create our session (link) from Python to the DB\n",
    "session = Session(bind=engine.connect())"
   ]
  },
  {
   "cell_type": "code",
   "execution_count": 6,
   "id": "b40d0222",
   "metadata": {},
   "outputs": [],
   "source": [
    "# reflect an existing database into a new model\n",
    "Base = automap_base()\n",
    "# reflect the tables\n",
    "Base.prepare(engine, reflect=True)"
   ]
  },
  {
   "cell_type": "code",
   "execution_count": 7,
   "id": "9de4cb08",
   "metadata": {},
   "outputs": [
    {
     "data": {
      "text/plain": [
       "['ave_wage_indexing',\n",
       " 'welfare_education',\n",
       " 'cpi_inflation_rate',\n",
       " 'crime_rate',\n",
       " 'economic_features_full',\n",
       " 'economic_features',\n",
       " 'divorce_rate',\n",
       " 'homeownership_rate',\n",
       " 'min_wage_effective',\n",
       " 'poverty_rates',\n",
       " 'unemployment_rate']"
      ]
     },
     "execution_count": 7,
     "metadata": {},
     "output_type": "execute_result"
    }
   ],
   "source": [
    "# List tables in database\n",
    "inspect(engine).get_table_names()"
   ]
  },
  {
   "cell_type": "code",
   "execution_count": 8,
   "id": "79326f8f",
   "metadata": {},
   "outputs": [
    {
     "data": {
      "text/plain": [
       "['year',\n",
       " 'state',\n",
       " 'population_million',\n",
       " 'education_million',\n",
       " 'welfare_million',\n",
       " 'crime_rate',\n",
       " 'unemployment_rate',\n",
       " 'divorce_rate_per_1000_people',\n",
       " 'homeownership_rate',\n",
       " 'minimum_wage_effective',\n",
       " 'cpi_average',\n",
       " 'avg_wage_index',\n",
       " 'poverty_rate']"
      ]
     },
     "execution_count": 8,
     "metadata": {},
     "output_type": "execute_result"
    }
   ],
   "source": [
    "# List columns in a specific table ('min_wage')\n",
    "[column['name'] for column in inspect(engine).get_columns('economic_features')]"
   ]
  },
  {
   "cell_type": "code",
   "execution_count": 9,
   "id": "e1270456",
   "metadata": {},
   "outputs": [],
   "source": [
    "# Defining function that takes in a table name and outputs a dataframe\n",
    "def db_reader(tablename):\n",
    "    table_df = pd.read_sql_table(f'{tablename}', engine)\n",
    "    return table_df"
   ]
  },
  {
   "cell_type": "code",
   "execution_count": 10,
   "id": "d2c6fe36",
   "metadata": {},
   "outputs": [
    {
     "data": {
      "text/html": [
       "<div>\n",
       "<style scoped>\n",
       "    .dataframe tbody tr th:only-of-type {\n",
       "        vertical-align: middle;\n",
       "    }\n",
       "\n",
       "    .dataframe tbody tr th {\n",
       "        vertical-align: top;\n",
       "    }\n",
       "\n",
       "    .dataframe thead th {\n",
       "        text-align: right;\n",
       "    }\n",
       "</style>\n",
       "<table border=\"1\" class=\"dataframe\">\n",
       "  <thead>\n",
       "    <tr style=\"text-align: right;\">\n",
       "      <th></th>\n",
       "      <th>year</th>\n",
       "      <th>state</th>\n",
       "      <th>population_million</th>\n",
       "      <th>education_million</th>\n",
       "      <th>welfare_million</th>\n",
       "      <th>crime_rate</th>\n",
       "      <th>unemployment_rate</th>\n",
       "      <th>divorce_rate_per_1000_people</th>\n",
       "      <th>homeownership_rate</th>\n",
       "      <th>minimum_wage_effective</th>\n",
       "      <th>cpi_average</th>\n",
       "      <th>avg_wage_index</th>\n",
       "      <th>poverty_rate</th>\n",
       "    </tr>\n",
       "  </thead>\n",
       "  <tbody>\n",
       "    <tr>\n",
       "      <th>0</th>\n",
       "      <td>1970</td>\n",
       "      <td>National</td>\n",
       "      <td>203.302</td>\n",
       "      <td>56456.0</td>\n",
       "      <td>18738.8</td>\n",
       "      <td>363.5</td>\n",
       "      <td>NaN</td>\n",
       "      <td>3.50</td>\n",
       "      <td>NaN</td>\n",
       "      <td>1.382353</td>\n",
       "      <td>38.8</td>\n",
       "      <td>6186.24</td>\n",
       "      <td>17.18</td>\n",
       "    </tr>\n",
       "    <tr>\n",
       "      <th>1</th>\n",
       "      <td>1971</td>\n",
       "      <td>National</td>\n",
       "      <td>205.515</td>\n",
       "      <td>63469.0</td>\n",
       "      <td>27364.3</td>\n",
       "      <td>396.0</td>\n",
       "      <td>NaN</td>\n",
       "      <td>3.75</td>\n",
       "      <td>NaN</td>\n",
       "      <td>1.382353</td>\n",
       "      <td>40.5</td>\n",
       "      <td>6497.08</td>\n",
       "      <td>17.05</td>\n",
       "    </tr>\n",
       "    <tr>\n",
       "      <th>2</th>\n",
       "      <td>1972</td>\n",
       "      <td>National</td>\n",
       "      <td>207.752</td>\n",
       "      <td>71351.0</td>\n",
       "      <td>30594.3</td>\n",
       "      <td>401.0</td>\n",
       "      <td>NaN</td>\n",
       "      <td>4.00</td>\n",
       "      <td>NaN</td>\n",
       "      <td>1.623529</td>\n",
       "      <td>41.8</td>\n",
       "      <td>7133.80</td>\n",
       "      <td>16.12</td>\n",
       "    </tr>\n",
       "    <tr>\n",
       "      <th>3</th>\n",
       "      <td>1973</td>\n",
       "      <td>National</td>\n",
       "      <td>210.013</td>\n",
       "      <td>75849.0</td>\n",
       "      <td>28944.9</td>\n",
       "      <td>417.4</td>\n",
       "      <td>NaN</td>\n",
       "      <td>4.25</td>\n",
       "      <td>NaN</td>\n",
       "      <td>1.623529</td>\n",
       "      <td>44.4</td>\n",
       "      <td>7580.16</td>\n",
       "      <td>15.13</td>\n",
       "    </tr>\n",
       "    <tr>\n",
       "      <th>4</th>\n",
       "      <td>1974</td>\n",
       "      <td>National</td>\n",
       "      <td>212.299</td>\n",
       "      <td>81440.0</td>\n",
       "      <td>34816.4</td>\n",
       "      <td>461.1</td>\n",
       "      <td>NaN</td>\n",
       "      <td>4.50</td>\n",
       "      <td>NaN</td>\n",
       "      <td>1.623529</td>\n",
       "      <td>49.3</td>\n",
       "      <td>8030.76</td>\n",
       "      <td>15.86</td>\n",
       "    </tr>\n",
       "  </tbody>\n",
       "</table>\n",
       "</div>"
      ],
      "text/plain": [
       "   year     state  population_million  education_million  welfare_million  \\\n",
       "0  1970  National             203.302            56456.0          18738.8   \n",
       "1  1971  National             205.515            63469.0          27364.3   \n",
       "2  1972  National             207.752            71351.0          30594.3   \n",
       "3  1973  National             210.013            75849.0          28944.9   \n",
       "4  1974  National             212.299            81440.0          34816.4   \n",
       "\n",
       "   crime_rate  unemployment_rate  divorce_rate_per_1000_people  \\\n",
       "0       363.5                NaN                          3.50   \n",
       "1       396.0                NaN                          3.75   \n",
       "2       401.0                NaN                          4.00   \n",
       "3       417.4                NaN                          4.25   \n",
       "4       461.1                NaN                          4.50   \n",
       "\n",
       "   homeownership_rate  minimum_wage_effective  cpi_average  avg_wage_index  \\\n",
       "0                 NaN                1.382353         38.8         6186.24   \n",
       "1                 NaN                1.382353         40.5         6497.08   \n",
       "2                 NaN                1.623529         41.8         7133.80   \n",
       "3                 NaN                1.623529         44.4         7580.16   \n",
       "4                 NaN                1.623529         49.3         8030.76   \n",
       "\n",
       "   poverty_rate  \n",
       "0         17.18  \n",
       "1         17.05  \n",
       "2         16.12  \n",
       "3         15.13  \n",
       "4         15.86  "
      ]
     },
     "execution_count": 10,
     "metadata": {},
     "output_type": "execute_result"
    }
   ],
   "source": [
    "# Reading a database table into a dataframe\n",
    "econ_features_full = db_reader('economic_features_full')\n",
    "econ_features_full.head()"
   ]
  },
  {
   "cell_type": "code",
   "execution_count": 11,
   "id": "18d8ca51",
   "metadata": {},
   "outputs": [],
   "source": [
    "# plt.scatter(econ_features_full.avg_wage_index,econ_features_full.poverty_rate )\n",
    "# plt.xlabel('avg_wage_index')\n",
    "# plt.ylabel('poverty_rate')\n",
    "# plt.show()\n",
    "\n",
    "# xlabel = independent variable\n",
    "# ylabel = target variable that we want to predict "
   ]
  },
  {
   "cell_type": "code",
   "execution_count": 21,
   "id": "f60db825",
   "metadata": {},
   "outputs": [
    {
     "data": {
      "text/html": [
       "<div>\n",
       "<style scoped>\n",
       "    .dataframe tbody tr th:only-of-type {\n",
       "        vertical-align: middle;\n",
       "    }\n",
       "\n",
       "    .dataframe tbody tr th {\n",
       "        vertical-align: top;\n",
       "    }\n",
       "\n",
       "    .dataframe thead th {\n",
       "        text-align: right;\n",
       "    }\n",
       "</style>\n",
       "<table border=\"1\" class=\"dataframe\">\n",
       "  <thead>\n",
       "    <tr style=\"text-align: right;\">\n",
       "      <th></th>\n",
       "      <th>year</th>\n",
       "      <th>population_million</th>\n",
       "      <th>education_million</th>\n",
       "      <th>welfare_million</th>\n",
       "      <th>crime_rate</th>\n",
       "      <th>unemployment_rate</th>\n",
       "      <th>divorce_rate_per_1000_people</th>\n",
       "      <th>homeownership_rate</th>\n",
       "      <th>minimum_wage_effective</th>\n",
       "      <th>cpi_average</th>\n",
       "      <th>avg_wage_index</th>\n",
       "      <th>poverty_rate</th>\n",
       "    </tr>\n",
       "  </thead>\n",
       "  <tbody>\n",
       "    <tr>\n",
       "      <th>6</th>\n",
       "      <td>1976</td>\n",
       "      <td>216.945</td>\n",
       "      <td>107290.0</td>\n",
       "      <td>72155.2</td>\n",
       "      <td>467.8</td>\n",
       "      <td>7.786562</td>\n",
       "      <td>5.0</td>\n",
       "      <td>7.79</td>\n",
       "      <td>2.226667</td>\n",
       "      <td>56.9</td>\n",
       "      <td>9226.48</td>\n",
       "      <td>14.10</td>\n",
       "    </tr>\n",
       "    <tr>\n",
       "      <th>7</th>\n",
       "      <td>1977</td>\n",
       "      <td>219.307</td>\n",
       "      <td>115893.0</td>\n",
       "      <td>83417.8</td>\n",
       "      <td>475.9</td>\n",
       "      <td>7.132505</td>\n",
       "      <td>5.1</td>\n",
       "      <td>7.13</td>\n",
       "      <td>2.226667</td>\n",
       "      <td>60.6</td>\n",
       "      <td>9779.44</td>\n",
       "      <td>13.92</td>\n",
       "    </tr>\n",
       "    <tr>\n",
       "      <th>8</th>\n",
       "      <td>1978</td>\n",
       "      <td>221.694</td>\n",
       "      <td>128541.0</td>\n",
       "      <td>81037.9</td>\n",
       "      <td>497.8</td>\n",
       "      <td>6.134198</td>\n",
       "      <td>5.2</td>\n",
       "      <td>6.13</td>\n",
       "      <td>2.226667</td>\n",
       "      <td>65.2</td>\n",
       "      <td>10556.03</td>\n",
       "      <td>13.43</td>\n",
       "    </tr>\n",
       "    <tr>\n",
       "      <th>9</th>\n",
       "      <td>1979</td>\n",
       "      <td>224.107</td>\n",
       "      <td>140169.0</td>\n",
       "      <td>83691.3</td>\n",
       "      <td>548.9</td>\n",
       "      <td>5.923827</td>\n",
       "      <td>5.3</td>\n",
       "      <td>5.92</td>\n",
       "      <td>2.910000</td>\n",
       "      <td>72.6</td>\n",
       "      <td>11479.46</td>\n",
       "      <td>13.33</td>\n",
       "    </tr>\n",
       "    <tr>\n",
       "      <th>10</th>\n",
       "      <td>1980</td>\n",
       "      <td>226.546</td>\n",
       "      <td>153686.0</td>\n",
       "      <td>108251.7</td>\n",
       "      <td>596.6</td>\n",
       "      <td>7.255717</td>\n",
       "      <td>5.2</td>\n",
       "      <td>7.26</td>\n",
       "      <td>3.110196</td>\n",
       "      <td>82.4</td>\n",
       "      <td>12513.46</td>\n",
       "      <td>14.65</td>\n",
       "    </tr>\n",
       "  </tbody>\n",
       "</table>\n",
       "</div>"
      ],
      "text/plain": [
       "    year  population_million  education_million  welfare_million  crime_rate  \\\n",
       "6   1976             216.945           107290.0          72155.2       467.8   \n",
       "7   1977             219.307           115893.0          83417.8       475.9   \n",
       "8   1978             221.694           128541.0          81037.9       497.8   \n",
       "9   1979             224.107           140169.0          83691.3       548.9   \n",
       "10  1980             226.546           153686.0         108251.7       596.6   \n",
       "\n",
       "    unemployment_rate  divorce_rate_per_1000_people  homeownership_rate  \\\n",
       "6            7.786562                           5.0                7.79   \n",
       "7            7.132505                           5.1                7.13   \n",
       "8            6.134198                           5.2                6.13   \n",
       "9            5.923827                           5.3                5.92   \n",
       "10           7.255717                           5.2                7.26   \n",
       "\n",
       "    minimum_wage_effective  cpi_average  avg_wage_index  poverty_rate  \n",
       "6                 2.226667         56.9         9226.48         14.10  \n",
       "7                 2.226667         60.6         9779.44         13.92  \n",
       "8                 2.226667         65.2        10556.03         13.43  \n",
       "9                 2.910000         72.6        11479.46         13.33  \n",
       "10                3.110196         82.4        12513.46         14.65  "
      ]
     },
     "execution_count": 21,
     "metadata": {},
     "output_type": "execute_result"
    }
   ],
   "source": [
    "# Drop the non-beneficial columns\n",
    "model_df = econ_features_full.drop(columns=[\"state\"], axis=1).dropna()\n",
    "model_df.head()"
   ]
  },
  {
   "cell_type": "code",
   "execution_count": 50,
   "id": "e4323c21",
   "metadata": {},
   "outputs": [],
   "source": [
    "# Define X and y variables\n",
    "X = model_df.drop([\"poverty_rate\"], axis=1)#.values.reshape(-1, 1)\n",
    "y = model_df[\"poverty_rate\"]\n",
    "\n"
   ]
  },
  {
   "cell_type": "code",
   "execution_count": 51,
   "id": "b08f9d45",
   "metadata": {},
   "outputs": [
    {
     "data": {
      "text/html": [
       "<div>\n",
       "<style scoped>\n",
       "    .dataframe tbody tr th:only-of-type {\n",
       "        vertical-align: middle;\n",
       "    }\n",
       "\n",
       "    .dataframe tbody tr th {\n",
       "        vertical-align: top;\n",
       "    }\n",
       "\n",
       "    .dataframe thead th {\n",
       "        text-align: right;\n",
       "    }\n",
       "</style>\n",
       "<table border=\"1\" class=\"dataframe\">\n",
       "  <thead>\n",
       "    <tr style=\"text-align: right;\">\n",
       "      <th></th>\n",
       "      <th>year</th>\n",
       "      <th>population_million</th>\n",
       "      <th>education_million</th>\n",
       "      <th>welfare_million</th>\n",
       "      <th>crime_rate</th>\n",
       "      <th>unemployment_rate</th>\n",
       "      <th>divorce_rate_per_1000_people</th>\n",
       "      <th>homeownership_rate</th>\n",
       "      <th>minimum_wage_effective</th>\n",
       "      <th>cpi_average</th>\n",
       "      <th>avg_wage_index</th>\n",
       "    </tr>\n",
       "  </thead>\n",
       "  <tbody>\n",
       "    <tr>\n",
       "      <th>6</th>\n",
       "      <td>1976</td>\n",
       "      <td>216.945</td>\n",
       "      <td>107290.0</td>\n",
       "      <td>72155.2</td>\n",
       "      <td>467.8</td>\n",
       "      <td>7.786562</td>\n",
       "      <td>5.0</td>\n",
       "      <td>7.79</td>\n",
       "      <td>2.226667</td>\n",
       "      <td>56.9</td>\n",
       "      <td>9226.48</td>\n",
       "    </tr>\n",
       "    <tr>\n",
       "      <th>7</th>\n",
       "      <td>1977</td>\n",
       "      <td>219.307</td>\n",
       "      <td>115893.0</td>\n",
       "      <td>83417.8</td>\n",
       "      <td>475.9</td>\n",
       "      <td>7.132505</td>\n",
       "      <td>5.1</td>\n",
       "      <td>7.13</td>\n",
       "      <td>2.226667</td>\n",
       "      <td>60.6</td>\n",
       "      <td>9779.44</td>\n",
       "    </tr>\n",
       "    <tr>\n",
       "      <th>8</th>\n",
       "      <td>1978</td>\n",
       "      <td>221.694</td>\n",
       "      <td>128541.0</td>\n",
       "      <td>81037.9</td>\n",
       "      <td>497.8</td>\n",
       "      <td>6.134198</td>\n",
       "      <td>5.2</td>\n",
       "      <td>6.13</td>\n",
       "      <td>2.226667</td>\n",
       "      <td>65.2</td>\n",
       "      <td>10556.03</td>\n",
       "    </tr>\n",
       "    <tr>\n",
       "      <th>9</th>\n",
       "      <td>1979</td>\n",
       "      <td>224.107</td>\n",
       "      <td>140169.0</td>\n",
       "      <td>83691.3</td>\n",
       "      <td>548.9</td>\n",
       "      <td>5.923827</td>\n",
       "      <td>5.3</td>\n",
       "      <td>5.92</td>\n",
       "      <td>2.910000</td>\n",
       "      <td>72.6</td>\n",
       "      <td>11479.46</td>\n",
       "    </tr>\n",
       "    <tr>\n",
       "      <th>10</th>\n",
       "      <td>1980</td>\n",
       "      <td>226.546</td>\n",
       "      <td>153686.0</td>\n",
       "      <td>108251.7</td>\n",
       "      <td>596.6</td>\n",
       "      <td>7.255717</td>\n",
       "      <td>5.2</td>\n",
       "      <td>7.26</td>\n",
       "      <td>3.110196</td>\n",
       "      <td>82.4</td>\n",
       "      <td>12513.46</td>\n",
       "    </tr>\n",
       "  </tbody>\n",
       "</table>\n",
       "</div>"
      ],
      "text/plain": [
       "    year  population_million  education_million  welfare_million  crime_rate  \\\n",
       "6   1976             216.945           107290.0          72155.2       467.8   \n",
       "7   1977             219.307           115893.0          83417.8       475.9   \n",
       "8   1978             221.694           128541.0          81037.9       497.8   \n",
       "9   1979             224.107           140169.0          83691.3       548.9   \n",
       "10  1980             226.546           153686.0         108251.7       596.6   \n",
       "\n",
       "    unemployment_rate  divorce_rate_per_1000_people  homeownership_rate  \\\n",
       "6            7.786562                           5.0                7.79   \n",
       "7            7.132505                           5.1                7.13   \n",
       "8            6.134198                           5.2                6.13   \n",
       "9            5.923827                           5.3                5.92   \n",
       "10           7.255717                           5.2                7.26   \n",
       "\n",
       "    minimum_wage_effective  cpi_average  avg_wage_index  \n",
       "6                 2.226667         56.9         9226.48  \n",
       "7                 2.226667         60.6         9779.44  \n",
       "8                 2.226667         65.2        10556.03  \n",
       "9                 2.910000         72.6        11479.46  \n",
       "10                3.110196         82.4        12513.46  "
      ]
     },
     "execution_count": 51,
     "metadata": {},
     "output_type": "execute_result"
    }
   ],
   "source": [
    "X.head()"
   ]
  },
  {
   "cell_type": "code",
   "execution_count": 52,
   "id": "687192b3",
   "metadata": {},
   "outputs": [
    {
     "data": {
      "text/plain": [
       "(1594, 11)"
      ]
     },
     "execution_count": 52,
     "metadata": {},
     "output_type": "execute_result"
    }
   ],
   "source": [
    "X.shape"
   ]
  },
  {
   "cell_type": "code",
   "execution_count": 53,
   "id": "054568a6",
   "metadata": {},
   "outputs": [
    {
     "data": {
      "text/plain": [
       "year                              int64\n",
       "population_million              float64\n",
       "education_million               float64\n",
       "welfare_million                 float64\n",
       "crime_rate                      float64\n",
       "unemployment_rate               float64\n",
       "divorce_rate_per_1000_people    float64\n",
       "homeownership_rate              float64\n",
       "minimum_wage_effective          float64\n",
       "cpi_average                     float64\n",
       "avg_wage_index                  float64\n",
       "poverty_rate                    float64\n",
       "dtype: object"
      ]
     },
     "execution_count": 53,
     "metadata": {},
     "output_type": "execute_result"
    }
   ],
   "source": [
    "model_df.dtypes"
   ]
  },
  {
   "cell_type": "code",
   "execution_count": 54,
   "id": "ef44fcff",
   "metadata": {},
   "outputs": [],
   "source": [
    "# Standardize data\n",
    "import sklearn.preprocessing as preprocessing\n",
    "\n",
    "std = preprocessing.StandardScaler()\n",
    "# X is a matrix\n",
    "std.fit(X)\n",
    "X_std = std.transform(X)"
   ]
  },
  {
   "cell_type": "code",
   "execution_count": 55,
   "id": "80e4d3f4",
   "metadata": {},
   "outputs": [],
   "source": [
    "# Split the dataset into training and testing sets \n",
    "from sklearn.model_selection import train_test_split\n",
    "X_train, X_test, y_train, y_test = train_test_split(X,\n",
    "    y, random_state=1)"
   ]
  },
  {
   "cell_type": "code",
   "execution_count": 56,
   "id": "a6501e0b",
   "metadata": {},
   "outputs": [],
   "source": [
    "# Create a model with scikit-learn\n",
    "model = LinearRegression()"
   ]
  },
  {
   "cell_type": "code",
   "execution_count": 57,
   "id": "fcdbca14",
   "metadata": {},
   "outputs": [
    {
     "data": {
      "text/plain": [
       "LinearRegression()"
      ]
     },
     "execution_count": 57,
     "metadata": {},
     "output_type": "execute_result"
    }
   ],
   "source": [
    "# Fit the data into the model\n",
    "# By convention, X is capitalized and y is lowercase\n",
    "model.fit(X, y)"
   ]
  },
  {
   "cell_type": "code",
   "execution_count": 61,
   "id": "5cd32e40",
   "metadata": {},
   "outputs": [
    {
     "name": "stdout",
     "output_type": "stream",
     "text": [
      "(1594,)\n",
      "(1594, 11)\n"
     ]
    }
   ],
   "source": [
    "# We use the predict() on the model to predict the output\n",
    "# The model creates predicted y values based on X values\n",
    "y_pred = model.predict(X)\n",
    "print(y_pred.shape)\n",
    "print(X.shape)\n",
    "\n",
    "\n",
    "# for regression we use R2 score and MAE(mean absolute error)\n",
    "# from sklearn.metrics import mean_absolute_error\n",
    "# from sklearn.metrics import r2_score\n",
    "# print(mean_absolute_error(y_test,y_pred))\n",
    "# print(mean_absolute_error(y_test,y_pred))"
   ]
  },
  {
   "cell_type": "code",
   "execution_count": 36,
   "id": "57cb4a31",
   "metadata": {},
   "outputs": [
    {
     "ename": "ValueError",
     "evalue": "x and y must be the same size",
     "output_type": "error",
     "traceback": [
      "\u001b[0;31m---------------------------------------------------------------------------\u001b[0m",
      "\u001b[0;31mValueError\u001b[0m                                Traceback (most recent call last)",
      "\u001b[0;32m<ipython-input-36-1334825a64d9>\u001b[0m in \u001b[0;36m<module>\u001b[0;34m\u001b[0m\n\u001b[1;32m      1\u001b[0m \u001b[0;31m# Plot the results. The best fit line is red.\u001b[0m\u001b[0;34m\u001b[0m\u001b[0;34m\u001b[0m\u001b[0;34m\u001b[0m\u001b[0m\n\u001b[0;32m----> 2\u001b[0;31m \u001b[0mplt\u001b[0m\u001b[0;34m.\u001b[0m\u001b[0mscatter\u001b[0m\u001b[0;34m(\u001b[0m\u001b[0mX\u001b[0m\u001b[0;34m,\u001b[0m \u001b[0my\u001b[0m\u001b[0;34m)\u001b[0m\u001b[0;34m\u001b[0m\u001b[0;34m\u001b[0m\u001b[0m\n\u001b[0m\u001b[1;32m      3\u001b[0m \u001b[0mplt\u001b[0m\u001b[0;34m.\u001b[0m\u001b[0mplot\u001b[0m\u001b[0;34m(\u001b[0m\u001b[0mX\u001b[0m\u001b[0;34m,\u001b[0m \u001b[0my_pred\u001b[0m\u001b[0;34m,\u001b[0m \u001b[0mcolor\u001b[0m\u001b[0;34m=\u001b[0m\u001b[0;34m'red'\u001b[0m\u001b[0;34m)\u001b[0m\u001b[0;34m\u001b[0m\u001b[0;34m\u001b[0m\u001b[0m\n\u001b[1;32m      4\u001b[0m \u001b[0mplt\u001b[0m\u001b[0;34m.\u001b[0m\u001b[0mshow\u001b[0m\u001b[0;34m(\u001b[0m\u001b[0;34m)\u001b[0m\u001b[0;34m\u001b[0m\u001b[0;34m\u001b[0m\u001b[0m\n",
      "\u001b[0;32m~/opt/anaconda3/envs/mlenv/lib/python3.7/site-packages/matplotlib/pyplot.py\u001b[0m in \u001b[0;36mscatter\u001b[0;34m(x, y, s, c, marker, cmap, norm, vmin, vmax, alpha, linewidths, verts, edgecolors, plotnonfinite, data, **kwargs)\u001b[0m\n\u001b[1;32m   2893\u001b[0m         \u001b[0mverts\u001b[0m\u001b[0;34m=\u001b[0m\u001b[0mverts\u001b[0m\u001b[0;34m,\u001b[0m \u001b[0medgecolors\u001b[0m\u001b[0;34m=\u001b[0m\u001b[0medgecolors\u001b[0m\u001b[0;34m,\u001b[0m\u001b[0;34m\u001b[0m\u001b[0;34m\u001b[0m\u001b[0m\n\u001b[1;32m   2894\u001b[0m         \u001b[0mplotnonfinite\u001b[0m\u001b[0;34m=\u001b[0m\u001b[0mplotnonfinite\u001b[0m\u001b[0;34m,\u001b[0m\u001b[0;34m\u001b[0m\u001b[0;34m\u001b[0m\u001b[0m\n\u001b[0;32m-> 2895\u001b[0;31m         **({\"data\": data} if data is not None else {}), **kwargs)\n\u001b[0m\u001b[1;32m   2896\u001b[0m     \u001b[0msci\u001b[0m\u001b[0;34m(\u001b[0m\u001b[0m__ret\u001b[0m\u001b[0;34m)\u001b[0m\u001b[0;34m\u001b[0m\u001b[0;34m\u001b[0m\u001b[0m\n\u001b[1;32m   2897\u001b[0m     \u001b[0;32mreturn\u001b[0m \u001b[0m__ret\u001b[0m\u001b[0;34m\u001b[0m\u001b[0;34m\u001b[0m\u001b[0m\n",
      "\u001b[0;32m~/opt/anaconda3/envs/mlenv/lib/python3.7/site-packages/matplotlib/__init__.py\u001b[0m in \u001b[0;36minner\u001b[0;34m(ax, data, *args, **kwargs)\u001b[0m\n\u001b[1;32m   1445\u001b[0m     \u001b[0;32mdef\u001b[0m \u001b[0minner\u001b[0m\u001b[0;34m(\u001b[0m\u001b[0max\u001b[0m\u001b[0;34m,\u001b[0m \u001b[0;34m*\u001b[0m\u001b[0margs\u001b[0m\u001b[0;34m,\u001b[0m \u001b[0mdata\u001b[0m\u001b[0;34m=\u001b[0m\u001b[0;32mNone\u001b[0m\u001b[0;34m,\u001b[0m \u001b[0;34m**\u001b[0m\u001b[0mkwargs\u001b[0m\u001b[0;34m)\u001b[0m\u001b[0;34m:\u001b[0m\u001b[0;34m\u001b[0m\u001b[0;34m\u001b[0m\u001b[0m\n\u001b[1;32m   1446\u001b[0m         \u001b[0;32mif\u001b[0m \u001b[0mdata\u001b[0m \u001b[0;32mis\u001b[0m \u001b[0;32mNone\u001b[0m\u001b[0;34m:\u001b[0m\u001b[0;34m\u001b[0m\u001b[0;34m\u001b[0m\u001b[0m\n\u001b[0;32m-> 1447\u001b[0;31m             \u001b[0;32mreturn\u001b[0m \u001b[0mfunc\u001b[0m\u001b[0;34m(\u001b[0m\u001b[0max\u001b[0m\u001b[0;34m,\u001b[0m \u001b[0;34m*\u001b[0m\u001b[0mmap\u001b[0m\u001b[0;34m(\u001b[0m\u001b[0msanitize_sequence\u001b[0m\u001b[0;34m,\u001b[0m \u001b[0margs\u001b[0m\u001b[0;34m)\u001b[0m\u001b[0;34m,\u001b[0m \u001b[0;34m**\u001b[0m\u001b[0mkwargs\u001b[0m\u001b[0;34m)\u001b[0m\u001b[0;34m\u001b[0m\u001b[0;34m\u001b[0m\u001b[0m\n\u001b[0m\u001b[1;32m   1448\u001b[0m \u001b[0;34m\u001b[0m\u001b[0m\n\u001b[1;32m   1449\u001b[0m         \u001b[0mbound\u001b[0m \u001b[0;34m=\u001b[0m \u001b[0mnew_sig\u001b[0m\u001b[0;34m.\u001b[0m\u001b[0mbind\u001b[0m\u001b[0;34m(\u001b[0m\u001b[0max\u001b[0m\u001b[0;34m,\u001b[0m \u001b[0;34m*\u001b[0m\u001b[0margs\u001b[0m\u001b[0;34m,\u001b[0m \u001b[0;34m**\u001b[0m\u001b[0mkwargs\u001b[0m\u001b[0;34m)\u001b[0m\u001b[0;34m\u001b[0m\u001b[0;34m\u001b[0m\u001b[0m\n",
      "\u001b[0;32m~/opt/anaconda3/envs/mlenv/lib/python3.7/site-packages/matplotlib/cbook/deprecation.py\u001b[0m in \u001b[0;36mwrapper\u001b[0;34m(*inner_args, **inner_kwargs)\u001b[0m\n\u001b[1;32m    409\u001b[0m                          \u001b[0;32melse\u001b[0m \u001b[0mdeprecation_addendum\u001b[0m\u001b[0;34m,\u001b[0m\u001b[0;34m\u001b[0m\u001b[0;34m\u001b[0m\u001b[0m\n\u001b[1;32m    410\u001b[0m                 **kwargs)\n\u001b[0;32m--> 411\u001b[0;31m         \u001b[0;32mreturn\u001b[0m \u001b[0mfunc\u001b[0m\u001b[0;34m(\u001b[0m\u001b[0;34m*\u001b[0m\u001b[0minner_args\u001b[0m\u001b[0;34m,\u001b[0m \u001b[0;34m**\u001b[0m\u001b[0minner_kwargs\u001b[0m\u001b[0;34m)\u001b[0m\u001b[0;34m\u001b[0m\u001b[0;34m\u001b[0m\u001b[0m\n\u001b[0m\u001b[1;32m    412\u001b[0m \u001b[0;34m\u001b[0m\u001b[0m\n\u001b[1;32m    413\u001b[0m     \u001b[0;32mreturn\u001b[0m \u001b[0mwrapper\u001b[0m\u001b[0;34m\u001b[0m\u001b[0;34m\u001b[0m\u001b[0m\n",
      "\u001b[0;32m~/opt/anaconda3/envs/mlenv/lib/python3.7/site-packages/matplotlib/axes/_axes.py\u001b[0m in \u001b[0;36mscatter\u001b[0;34m(self, x, y, s, c, marker, cmap, norm, vmin, vmax, alpha, linewidths, verts, edgecolors, plotnonfinite, **kwargs)\u001b[0m\n\u001b[1;32m   4439\u001b[0m         \u001b[0my\u001b[0m \u001b[0;34m=\u001b[0m \u001b[0mnp\u001b[0m\u001b[0;34m.\u001b[0m\u001b[0mma\u001b[0m\u001b[0;34m.\u001b[0m\u001b[0mravel\u001b[0m\u001b[0;34m(\u001b[0m\u001b[0my\u001b[0m\u001b[0;34m)\u001b[0m\u001b[0;34m\u001b[0m\u001b[0;34m\u001b[0m\u001b[0m\n\u001b[1;32m   4440\u001b[0m         \u001b[0;32mif\u001b[0m \u001b[0mx\u001b[0m\u001b[0;34m.\u001b[0m\u001b[0msize\u001b[0m \u001b[0;34m!=\u001b[0m \u001b[0my\u001b[0m\u001b[0;34m.\u001b[0m\u001b[0msize\u001b[0m\u001b[0;34m:\u001b[0m\u001b[0;34m\u001b[0m\u001b[0;34m\u001b[0m\u001b[0m\n\u001b[0;32m-> 4441\u001b[0;31m             \u001b[0;32mraise\u001b[0m \u001b[0mValueError\u001b[0m\u001b[0;34m(\u001b[0m\u001b[0;34m\"x and y must be the same size\"\u001b[0m\u001b[0;34m)\u001b[0m\u001b[0;34m\u001b[0m\u001b[0;34m\u001b[0m\u001b[0m\n\u001b[0m\u001b[1;32m   4442\u001b[0m \u001b[0;34m\u001b[0m\u001b[0m\n\u001b[1;32m   4443\u001b[0m         \u001b[0;32mif\u001b[0m \u001b[0ms\u001b[0m \u001b[0;32mis\u001b[0m \u001b[0;32mNone\u001b[0m\u001b[0;34m:\u001b[0m\u001b[0;34m\u001b[0m\u001b[0;34m\u001b[0m\u001b[0m\n",
      "\u001b[0;31mValueError\u001b[0m: x and y must be the same size"
     ]
    },
    {
     "data": {
      "image/png": "[encoded data removed]",
      "text/plain": [
       "<Figure size 432x288 with 1 Axes>"
      ]
     },
     "metadata": {
      "needs_background": "light"
     },
     "output_type": "display_data"
    }
   ],
   "source": [
    "# Plot the results. The best fit line is red.\n",
    "plt.scatter(X, y)\n",
    "plt.plot(X, y_pred, color='red')\n",
    "plt.show()"
   ]
  },
  {
   "cell_type": "code",
   "execution_count": 59,
   "id": "525f6ed6",
   "metadata": {},
   "outputs": [
    {
     "name": "stdout",
     "output_type": "stream",
     "text": [
      "[-8.19432789e-01 -7.47694436e-02  2.32125315e-05 -1.51410363e-05\n",
      "  4.12829603e-03  1.07730287e+00 -2.32657306e+00 -1.68965782e-01\n",
      " -8.37761955e-01  7.81550727e-02  2.48173477e-04]\n",
      "1649.9479309010358\n"
     ]
    }
   ],
   "source": [
    "# The slope\n",
    "# The y-intercept\n",
    "print(model.coef_)\n",
    "print(model.intercept_)"
   ]
  },
  {
   "cell_type": "code",
   "execution_count": null,
   "id": "bdbdacbc",
   "metadata": {},
   "outputs": [],
   "source": []
  }
 ],
 "metadata": {
  "kernelspec": {
   "display_name": "mlenv",
   "language": "python",
   "name": "mlenv"
  },
  "language_info": {
   "codemirror_mode": {
    "name": "ipython",
    "version": 3
   },
   "file_extension": ".py",
   "mimetype": "text/x-python",
   "name": "python",
   "nbconvert_exporter": "python",
   "pygments_lexer": "ipython3",
   "version": "3.7.10"
  }
 },
 "nbformat": 4,
 "nbformat_minor": 5
}
