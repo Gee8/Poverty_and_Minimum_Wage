{
 "cells": [
  {
   "cell_type": "code",
   "execution_count": 1,
   "id": "6ed211e5",
   "metadata": {},
   "outputs": [],
   "source": [
    "# Import dependencies\n",
    "from sqlalchemy import inspect, create_engine\n",
    "from sqlalchemy.ext.automap import automap_base\n",
    "from sqlalchemy.orm import Session\n",
    "import config as creds\n",
    "import pandas as pd"
   ]
  },
  {
   "cell_type": "code",
   "execution_count": 2,
   "id": "ff6c16d7",
   "metadata": {},
   "outputs": [],
   "source": [
    "# Create engine\n",
    "engine = create_engine(f'postgresql://{creds.PGUSER}:{creds.PGPASSWORD}@{creds.PGHOST}:5432/{creds.PGDATABASE}')"
   ]
  },
  {
   "cell_type": "code",
   "execution_count": 3,
   "id": "eb73215a",
   "metadata": {},
   "outputs": [],
   "source": [
    "# Create our session (link) from Python to the DB\n",
    "session = Session(bind=engine.connect())"
   ]
  },
  {
   "cell_type": "code",
   "execution_count": 4,
   "id": "b40d0222",
   "metadata": {},
   "outputs": [],
   "source": [
    "# reflect an existing database into a new model\n",
    "Base = automap_base()\n",
    "# reflect the tables\n",
    "Base.prepare(engine, reflect=True)"
   ]
  },
  {
   "cell_type": "code",
   "execution_count": 5,
   "id": "9de4cb08",
   "metadata": {},
   "outputs": [
    {
     "data": {
      "text/plain": [
       "['ave_wage_indexing',\n",
       " 'welfare_education',\n",
       " 'cpi_inflation_rate',\n",
       " 'crime_rate',\n",
       " 'economic_features_full',\n",
       " 'economic_features',\n",
       " 'divorce_rate',\n",
       " 'homeownership_rate',\n",
       " 'min_wage_effective',\n",
       " 'poverty_rates',\n",
       " 'unemployment_rate']"
      ]
     },
     "execution_count": 5,
     "metadata": {},
     "output_type": "execute_result"
    }
   ],
   "source": [
    "# List tables in database\n",
    "inspect(engine).get_table_names()"
   ]
  },
  {
   "cell_type": "code",
   "execution_count": 6,
   "id": "79326f8f",
   "metadata": {},
   "outputs": [
    {
     "data": {
      "text/plain": [
       "['year',\n",
       " 'state',\n",
       " 'population_million',\n",
       " 'education_million',\n",
       " 'welfare_million',\n",
       " 'crime_rate',\n",
       " 'unemployment_rate',\n",
       " 'divorce_rate_per_1000_people',\n",
       " 'homeownership_rate',\n",
       " 'minimum_wage_effective',\n",
       " 'cpi_average',\n",
       " 'avg_wage_index',\n",
       " 'poverty_rate']"
      ]
     },
     "execution_count": 6,
     "metadata": {},
     "output_type": "execute_result"
    }
   ],
   "source": [
    "# List columns in a specific table ('min_wage')\n",
    "[column['name'] for column in inspect(engine).get_columns('economic_features')]"
   ]
  },
  {
   "cell_type": "code",
   "execution_count": 7,
   "id": "e1270456",
   "metadata": {},
   "outputs": [],
   "source": [
    "# Defining function that takes in a table name and outputs a dataframe\n",
    "def db_reader(tablename):\n",
    "    table_df = pd.read_sql_table(f'{tablename}', engine)\n",
    "    return table_df"
   ]
  },
  {
   "cell_type": "code",
   "execution_count": 8,
   "id": "d2c6fe36",
   "metadata": {},
   "outputs": [
    {
     "data": {
      "text/html": [
       "<div>\n",
       "<style scoped>\n",
       "    .dataframe tbody tr th:only-of-type {\n",
       "        vertical-align: middle;\n",
       "    }\n",
       "\n",
       "    .dataframe tbody tr th {\n",
       "        vertical-align: top;\n",
       "    }\n",
       "\n",
       "    .dataframe thead th {\n",
       "        text-align: right;\n",
       "    }\n",
       "</style>\n",
       "<table border=\"1\" class=\"dataframe\">\n",
       "  <thead>\n",
       "    <tr style=\"text-align: right;\">\n",
       "      <th></th>\n",
       "      <th>year</th>\n",
       "      <th>state</th>\n",
       "      <th>population_million</th>\n",
       "      <th>education_million</th>\n",
       "      <th>welfare_million</th>\n",
       "      <th>crime_rate</th>\n",
       "      <th>unemployment_rate</th>\n",
       "      <th>divorce_rate_per_1000_people</th>\n",
       "      <th>homeownership_rate</th>\n",
       "      <th>minimum_wage_effective</th>\n",
       "      <th>cpi_average</th>\n",
       "      <th>avg_wage_index</th>\n",
       "      <th>poverty_rate</th>\n",
       "    </tr>\n",
       "  </thead>\n",
       "  <tbody>\n",
       "    <tr>\n",
       "      <th>0</th>\n",
       "      <td>1970</td>\n",
       "      <td>National</td>\n",
       "      <td>203.302</td>\n",
       "      <td>56456.0</td>\n",
       "      <td>18738.8</td>\n",
       "      <td>363.5</td>\n",
       "      <td>NaN</td>\n",
       "      <td>3.50</td>\n",
       "      <td>NaN</td>\n",
       "      <td>1.382353</td>\n",
       "      <td>38.8</td>\n",
       "      <td>6186.24</td>\n",
       "      <td>17.18</td>\n",
       "    </tr>\n",
       "    <tr>\n",
       "      <th>1</th>\n",
       "      <td>1971</td>\n",
       "      <td>National</td>\n",
       "      <td>205.515</td>\n",
       "      <td>63469.0</td>\n",
       "      <td>27364.3</td>\n",
       "      <td>396.0</td>\n",
       "      <td>NaN</td>\n",
       "      <td>3.75</td>\n",
       "      <td>NaN</td>\n",
       "      <td>1.382353</td>\n",
       "      <td>40.5</td>\n",
       "      <td>6497.08</td>\n",
       "      <td>17.05</td>\n",
       "    </tr>\n",
       "    <tr>\n",
       "      <th>2</th>\n",
       "      <td>1972</td>\n",
       "      <td>National</td>\n",
       "      <td>207.752</td>\n",
       "      <td>71351.0</td>\n",
       "      <td>30594.3</td>\n",
       "      <td>401.0</td>\n",
       "      <td>NaN</td>\n",
       "      <td>4.00</td>\n",
       "      <td>NaN</td>\n",
       "      <td>1.623529</td>\n",
       "      <td>41.8</td>\n",
       "      <td>7133.80</td>\n",
       "      <td>16.12</td>\n",
       "    </tr>\n",
       "    <tr>\n",
       "      <th>3</th>\n",
       "      <td>1973</td>\n",
       "      <td>National</td>\n",
       "      <td>210.013</td>\n",
       "      <td>75849.0</td>\n",
       "      <td>28944.9</td>\n",
       "      <td>417.4</td>\n",
       "      <td>NaN</td>\n",
       "      <td>4.25</td>\n",
       "      <td>NaN</td>\n",
       "      <td>1.623529</td>\n",
       "      <td>44.4</td>\n",
       "      <td>7580.16</td>\n",
       "      <td>15.13</td>\n",
       "    </tr>\n",
       "    <tr>\n",
       "      <th>4</th>\n",
       "      <td>1974</td>\n",
       "      <td>National</td>\n",
       "      <td>212.299</td>\n",
       "      <td>81440.0</td>\n",
       "      <td>34816.4</td>\n",
       "      <td>461.1</td>\n",
       "      <td>NaN</td>\n",
       "      <td>4.50</td>\n",
       "      <td>NaN</td>\n",
       "      <td>1.623529</td>\n",
       "      <td>49.3</td>\n",
       "      <td>8030.76</td>\n",
       "      <td>15.86</td>\n",
       "    </tr>\n",
       "  </tbody>\n",
       "</table>\n",
       "</div>"
      ],
      "text/plain": [
       "   year     state  population_million  education_million  welfare_million  \\\n",
       "0  1970  National             203.302            56456.0          18738.8   \n",
       "1  1971  National             205.515            63469.0          27364.3   \n",
       "2  1972  National             207.752            71351.0          30594.3   \n",
       "3  1973  National             210.013            75849.0          28944.9   \n",
       "4  1974  National             212.299            81440.0          34816.4   \n",
       "\n",
       "   crime_rate  unemployment_rate  divorce_rate_per_1000_people  \\\n",
       "0       363.5                NaN                          3.50   \n",
       "1       396.0                NaN                          3.75   \n",
       "2       401.0                NaN                          4.00   \n",
       "3       417.4                NaN                          4.25   \n",
       "4       461.1                NaN                          4.50   \n",
       "\n",
       "   homeownership_rate  minimum_wage_effective  cpi_average  avg_wage_index  \\\n",
       "0                 NaN                1.382353         38.8         6186.24   \n",
       "1                 NaN                1.382353         40.5         6497.08   \n",
       "2                 NaN                1.623529         41.8         7133.80   \n",
       "3                 NaN                1.623529         44.4         7580.16   \n",
       "4                 NaN                1.623529         49.3         8030.76   \n",
       "\n",
       "   poverty_rate  \n",
       "0         17.18  \n",
       "1         17.05  \n",
       "2         16.12  \n",
       "3         15.13  \n",
       "4         15.86  "
      ]
     },
     "execution_count": 8,
     "metadata": {},
     "output_type": "execute_result"
    }
   ],
   "source": [
    "# Reading a database table into a dataframe\n",
    "econ_features_full = db_reader('economic_features_full')\n",
    "econ_features_full.head()"
   ]
  },
  {
   "cell_type": "code",
   "execution_count": null,
   "id": "18d8ca51",
   "metadata": {},
   "outputs": [],
   "source": []
  },
  {
   "cell_type": "code",
   "execution_count": null,
   "id": "e4323c21",
   "metadata": {},
   "outputs": [],
   "source": []
  }
 ],
 "metadata": {
  "kernelspec": {
   "display_name": "mlenv",
   "language": "python",
   "name": "mlenv"
  },
  "language_info": {
   "codemirror_mode": {
    "name": "ipython",
    "version": 3
   },
   "file_extension": ".py",
   "mimetype": "text/x-python",
   "name": "python",
   "nbconvert_exporter": "python",
   "pygments_lexer": "ipython3",
   "version": "3.7.10"
  }
 },
 "nbformat": 4,
 "nbformat_minor": 5
}
